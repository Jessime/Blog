{
 "cells": [
  {
   "cell_type": "markdown",
   "metadata": {},
   "source": [
    "# How to Make Your First Blog Post with Nikola\n",
    "\n",
    "I decided I wanted to revamp my blog. I was previously running with [blogger](https://www.blogger.com/), but as my posts became more technical, it basically devolved to linking to a Github Gist holding a jupyter notebook. So my biggest requirement was that my new site generator had to have great support for notebooks. My next biggest requirement was that I wanted to be able to have comments on the blog, which should hopefully foster discussion. Finally, I wanted something that won't get in my way as I'm writing. Content is significantly more important than spending time tinkering with blog settings. It seems like [Nikola](https://getnikola.com/) fits the bill pretty well. Since this is my first go around, I'll begin by following their '[Getting Started](https://getnikola.com/getting-started.html)' guide.\n",
    "\n",
    "Here's how I set everything up.\n",
    "\n",
    "## Installation\n",
    "\n",
    "As suggested, I created a virtual environment, and a new folder for content.\n",
    "\n",
    "```bash\n",
    "mkdir ~/Code/blog/\n",
    "conda create -n blog python=3.5 anaconda\n",
    "```\n",
    "\n",
    "I then launched this notebook to record the rest of the steps"
   ]
  },
  {
   "cell_type": "code",
   "execution_count": 2,
   "metadata": {
    "collapsed": false
   },
   "outputs": [
    {
     "name": "stdout",
     "output_type": "stream",
     "text": [
      "/home/jessime/Code/blog\n"
     ]
    }
   ],
   "source": [
    "cd ~/Code/blog/"
   ]
  },
  {
   "cell_type": "code",
   "execution_count": null,
   "metadata": {
    "collapsed": false,
    "scrolled": false
   },
   "outputs": [],
   "source": [
    "!pip install Nikola[extras]"
   ]
  },
  {
   "cell_type": "markdown",
   "metadata": {},
   "source": [
    "Installing produces a decent bit of output, which I won't show here."
   ]
  },
  {
   "cell_type": "code",
   "execution_count": 1,
   "metadata": {
    "collapsed": false
   },
   "outputs": [],
   "source": [
    "#!nikola init --demo demo"
   ]
  },
  {
   "cell_type": "markdown",
   "metadata": {},
   "source": []
  }
 ],
 "metadata": {
  "kernelspec": {
   "display_name": "Python 3",
   "language": "python",
   "name": "python3"
  },
  "language_info": {
   "codemirror_mode": {
    "name": "ipython",
    "version": 3
   },
   "file_extension": ".py",
   "mimetype": "text/x-python",
   "name": "python",
   "nbconvert_exporter": "python",
   "pygments_lexer": "ipython3",
   "version": "3.5.2"
  },
  "toc": {
   "nav_menu": {
    "height": "63px",
    "width": "252px"
   },
   "navigate_menu": true,
   "number_sections": true,
   "sideBar": true,
   "threshold": 4,
   "toc_cell": false,
   "toc_section_display": "block",
   "toc_window_display": false
  }
 },
 "nbformat": 4,
 "nbformat_minor": 2
}
